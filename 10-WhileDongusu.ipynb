{
 "cells": [
  {
   "cell_type": "markdown",
   "metadata": {},
   "source": [
    "Bir koşul tuttuğu sürece devam et anlamına gelir.\n",
    "\n",
    "in20 çok önemli göz atabilirsin.\n"
   ]
  },
  {
   "cell_type": "code",
   "execution_count": 3,
   "metadata": {},
   "outputs": [],
   "source": [
    "x=0"
   ]
  },
  {
   "cell_type": "code",
   "execution_count": 4,
   "metadata": {},
   "outputs": [
    {
     "name": "stdout",
     "output_type": "stream",
     "text": [
      "0\n",
      "1\n",
      "2\n",
      "3\n",
      "4\n",
      "5\n",
      "6\n",
      "7\n",
      "8\n",
      "9\n"
     ]
    }
   ],
   "source": [
    "while x < 10:\n",
    "    print(x)\n",
    "    x += 1 "
   ]
  },
  {
   "cell_type": "code",
   "execution_count": 5,
   "metadata": {},
   "outputs": [],
   "source": [
    "benimListem = [1,2,3,4,5]"
   ]
  },
  {
   "cell_type": "code",
   "execution_count": 6,
   "metadata": {},
   "outputs": [
    {
     "data": {
      "text/plain": [
       "5"
      ]
     },
     "execution_count": 6,
     "metadata": {},
     "output_type": "execute_result"
    }
   ],
   "source": [
    "benimListem.pop()"
   ]
  },
  {
   "cell_type": "code",
   "execution_count": 7,
   "metadata": {},
   "outputs": [
    {
     "data": {
      "text/plain": [
       "[1, 2, 3, 4]"
      ]
     },
     "execution_count": 7,
     "metadata": {},
     "output_type": "execute_result"
    }
   ],
   "source": [
    "benimListem"
   ]
  },
  {
   "cell_type": "code",
   "execution_count": 8,
   "metadata": {},
   "outputs": [],
   "source": [
    "benimListem.append(5)"
   ]
  },
  {
   "cell_type": "code",
   "execution_count": 9,
   "metadata": {},
   "outputs": [
    {
     "data": {
      "text/plain": [
       "[1, 2, 3, 4, 5]"
      ]
     },
     "execution_count": 9,
     "metadata": {},
     "output_type": "execute_result"
    }
   ],
   "source": [
    "benimListem"
   ]
  },
  {
   "cell_type": "code",
   "execution_count": 10,
   "metadata": {},
   "outputs": [
    {
     "name": "stdout",
     "output_type": "stream",
     "text": [
      "3 hala listede\n",
      "3 hala listede\n",
      "3 hala listede\n"
     ]
    }
   ],
   "source": [
    "while 3 in benimListem:\n",
    "    print(\"3 hala listede\")\n",
    "    benimListem.pop()"
   ]
  },
  {
   "cell_type": "code",
   "execution_count": 11,
   "metadata": {},
   "outputs": [],
   "source": [
    "numara = 0"
   ]
  },
  {
   "cell_type": "code",
   "execution_count": 12,
   "metadata": {},
   "outputs": [
    {
     "name": "stdout",
     "output_type": "stream",
     "text": [
      "0\n",
      "1\n",
      "2\n",
      "3\n"
     ]
    }
   ],
   "source": [
    "while numara < 5 :\n",
    "    if numara ==4 :\n",
    "        break\n",
    "    print(numara)\n",
    "    numara += 1 "
   ]
  },
  {
   "cell_type": "code",
   "execution_count": 13,
   "metadata": {},
   "outputs": [],
   "source": []
  },
  {
   "cell_type": "code",
   "execution_count": 20,
   "metadata": {},
   "outputs": [
    {
     "name": "stdout",
     "output_type": "stream",
     "text": [
      "yeniDegisken'in güncel değeri : 0\n",
      "yeniDegisken'in güncel değeri : 5\n",
      "yeniDegisken'in güncel değeri : 10\n",
      "yeniDegisken'in güncel değeri : 15\n",
      "yeniDegisken'in güncel değeri : 20\n",
      "yeniDegisken'in güncel değeri : 25\n",
      "yeniDegisken'in güncel değeri : 30\n",
      "yeniDegisken'in güncel değeri : 35\n",
      "yeniDegisken'in güncel değeri : 40\n",
      "yeniDegisken'in güncel değeri : 45\n",
      "yeniDegisken'in güncel değeri : 50\n",
      "yeniDegisken'in güncel değeri : 55\n",
      "yeniDegisken'in güncel değeri : 60\n",
      "yeniDegisken'in güncel değeri : 65\n",
      "yeniDegisken'in güncel değeri : 70\n"
     ]
    }
   ],
   "source": [
    "yeniDegisken = 0 \n",
    "while yeniDegisken < 15:\n",
    "    #print(\"yeni degisken' in güncel değeri : \" + str(yeniDegisken))\n",
    "    \n",
    "    \n",
    "    \n",
    "    print(f\"yeniDegisken'in güncel değeri : {yeniDegisken * 5}\")\n",
    "    yeniDegisken += 1 "
   ]
  },
  {
   "cell_type": "code",
   "execution_count": null,
   "metadata": {},
   "outputs": [],
   "source": []
  }
 ],
 "metadata": {
  "kernelspec": {
   "display_name": "Python 3",
   "language": "python",
   "name": "python3"
  },
  "language_info": {
   "codemirror_mode": {
    "name": "ipython",
    "version": 3
   },
   "file_extension": ".py",
   "mimetype": "text/x-python",
   "name": "python",
   "nbconvert_exporter": "python",
   "pygments_lexer": "ipython3",
   "version": "3.8.3"
  }
 },
 "nbformat": 4,
 "nbformat_minor": 4
}
