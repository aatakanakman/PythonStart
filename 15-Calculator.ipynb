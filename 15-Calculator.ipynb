{
 "cells": [
  {
   "cell_type": "code",
   "execution_count": null,
   "metadata": {},
   "outputs": [],
   "source": [
    "return(str(a)+\" + \"+str(b) + \" = \" + str(a+b))"
   ]
  },
  {
   "cell_type": "code",
   "execution_count": null,
   "metadata": {},
   "outputs": [],
   "source": [
    "def hesapla(a,b,islem):\n",
    "    \n",
    "    if islem not in \"+-*/\":\n",
    "        return \"Lütfen şu işlemlerden birini seçiniz +-*/ \\n\"\n",
    "    \n",
    "    if islem == \"+\":\n",
    "        return(str(a)+\" + \"+str(b) + \" = \" + str(a+b))\n",
    "    elif islem == \"-\":\n",
    "        return(str(a)+\" - \"+str(b) + \" = \" + str(a-b))\n",
    "    elif islem == \"/\":\n",
    "        return(str(a)+\" / \"+str(b) + \" = \" + str(a/b))\n",
    "    elif islem == \"*\":\n",
    "        return(str(a)+\" * \"+str(b) + \" = \" + str(a*b))\n",
    "    else:\n",
    "        print(\"Yanlış değer girdiniz.\")\n",
    "        \n",
    "while True:\n",
    "    try:\n",
    "        a = int(input(\"ilk sayıyı giriniz: \"))\n",
    "        b = int(input(\"ikinci sayıyı giriniz: \"))\n",
    "        islem = input(\"İşleminizi seçiniz : +-*/\")\n",
    "        print(hesapla(a,b,islem))\n",
    "        print(\"\\n\")\n",
    "    except:\n",
    "        print(\"Lütfen sayıları düzgün giriniz\\n\")\n",
    "    "
   ]
  },
  {
   "cell_type": "code",
   "execution_count": null,
   "metadata": {},
   "outputs": [],
   "source": []
  },
  {
   "cell_type": "code",
   "execution_count": null,
   "metadata": {},
   "outputs": [],
   "source": []
  },
  {
   "cell_type": "code",
   "execution_count": null,
   "metadata": {},
   "outputs": [],
   "source": []
  }
 ],
 "metadata": {
  "kernelspec": {
   "display_name": "Python 3",
   "language": "python",
   "name": "python3"
  }
 },
 "nbformat": 4,
 "nbformat_minor": 4
}
