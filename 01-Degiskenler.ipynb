{
 "cells": [
  {
   "cell_type": "markdown",
   "metadata": {},
   "source": [
    "## Python Öğreniyorum"
   ]
  },
  {
   "cell_type": "markdown",
   "metadata": {},
   "source": [
    "Değişkenler-> Bir değişkenin tipini anlamak için type() içerisine alabiliriz.\n",
    "Integer -> integer dan sonra . koyarsak, tab yardımı ile yapılabilecek olan işlemler çıkar.\n",
    "Float -> Kesirli sayılardır.\n",
    "String -> Metin veri tipidir.\n",
    "Index -> Bir stringin içindeki her bir karakterdir 0 dan başlar. Köşeli parantez ile ulaşabiliriz.A[]\n",
    "Slicing -> Index işlemlerinde [2:] olarak yazarsak 2. index ve sonrasını alır.\n",
    "                              [:3] olarak yazarsak ilk 3 elemanı alır.\n",
    "                              [1:3] 1 dahil ve 3 dahil değil olarak alınır. \n",
    "                              [::2] 2 şer olarak getirir.\n",
    "                              [1:10:3] 1 başla 10 da dur ve 3 er 3 er atlayarak getir demek.\n",
    "                              [::-1] Tersten yazılıyor (Step Size)\n",
    "                   \n",
    "                   \n",
    "Matematiksel Hesaplamalar\n",
    "->** demek üzeri demektir. \n",
    "\n",
    "**Bazı Fonksiyonlar**\n",
    "capitalize() = ilk harf büyütme\n",
    "split() = Ayırma \n",
    "upper() = Tüm harfleri büyütür.\n",
    "\n",
    "\n",
    "\n",
    "\n",
    "GENEL KULLANIMLAR\n",
    "-> input = kullanıcıdan veri alma\n",
    "-> print = ekrana yazmak için \n",
    "-> len = string'in kaç karakterden oluştuğunu gösterir.\n",
    "-> "
   ]
  },
  {
   "cell_type": "code",
   "execution_count": 22,
   "metadata": {},
   "outputs": [],
   "source": [
    "benimIsmim =\"atakan\""
   ]
  },
  {
   "cell_type": "code",
   "execution_count": 23,
   "metadata": {},
   "outputs": [
    {
     "data": {
      "text/plain": [
       "'Atakan'"
      ]
     },
     "execution_count": 23,
     "metadata": {},
     "output_type": "execute_result"
    }
   ],
   "source": [
    "benimIsmim.capitalize()\n"
   ]
  },
  {
   "cell_type": "code",
   "execution_count": 24,
   "metadata": {},
   "outputs": [
    {
     "data": {
      "text/plain": [
       "'atakan'"
      ]
     },
     "execution_count": 24,
     "metadata": {},
     "output_type": "execute_result"
    }
   ],
   "source": [
    "benimIsmim"
   ]
  },
  {
   "cell_type": "code",
   "execution_count": 25,
   "metadata": {},
   "outputs": [],
   "source": [
    "benimYeniIsmim = benimIsmim.capitalize()"
   ]
  },
  {
   "cell_type": "code",
   "execution_count": 26,
   "metadata": {},
   "outputs": [
    {
     "data": {
      "text/plain": [
       "'Atakan'"
      ]
     },
     "execution_count": 26,
     "metadata": {},
     "output_type": "execute_result"
    }
   ],
   "source": [
    "benimYeniIsmim"
   ]
  },
  {
   "cell_type": "code",
   "execution_count": 27,
   "metadata": {},
   "outputs": [],
   "source": [
    "benimTamIsmim = \"Ali Atakan AKMAN\""
   ]
  },
  {
   "cell_type": "code",
   "execution_count": 32,
   "metadata": {},
   "outputs": [],
   "source": [
    "listeler = benimTamIsmim.split() "
   ]
  },
  {
   "cell_type": "code",
   "execution_count": 33,
   "metadata": {},
   "outputs": [
    {
     "data": {
      "text/plain": [
       "'AKMAN'"
      ]
     },
     "execution_count": 33,
     "metadata": {},
     "output_type": "execute_result"
    }
   ],
   "source": [
    "listeler[2]"
   ]
  },
  {
   "cell_type": "code",
   "execution_count": 34,
   "metadata": {},
   "outputs": [
    {
     "data": {
      "text/plain": [
       "'ALI ATAKAN AKMAN'"
      ]
     },
     "execution_count": 34,
     "metadata": {},
     "output_type": "execute_result"
    }
   ],
   "source": [
    "benimTamIsmim.upper()"
   ]
  },
  {
   "cell_type": "code",
   "execution_count": null,
   "metadata": {},
   "outputs": [],
   "source": []
  }
 ],
 "metadata": {
  "kernelspec": {
   "display_name": "Python 3",
   "language": "python",
   "name": "python3"
  },
  "language_info": {
   "codemirror_mode": {
    "name": "ipython",
    "version": 3
   },
   "file_extension": ".py",
   "mimetype": "text/x-python",
   "name": "python",
   "nbconvert_exporter": "python",
   "pygments_lexer": "ipython3",
   "version": "3.8.3"
  }
 },
 "nbformat": 4,
 "nbformat_minor": 4
}
